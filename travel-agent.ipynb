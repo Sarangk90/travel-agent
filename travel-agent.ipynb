{
 "cells": [
  {
   "cell_type": "markdown",
   "id": "f769921f",
   "metadata": {},
   "source": [
    "# LangGraph Travel Agent Demo\n",
    "\n",
    "This notebook demonstrates a multi-agent system built with LangGraph that simulates a travel agency with specialized agents.\n",
    "\n",
    "## Key Concepts:\n",
    "- **Multi-Agent System**: Multiple specialized agents working together\n",
    "- **LangGraph**: Framework for building stateful, multi-agent applications\n",
    "- **Agent Specialization**: Each agent has specific expertise and responsibilities\n",
    "- **Handoff Mechanism**: Agents can transfer control to other agents\n",
    "\n",
    "## System Architecture\n",
    "\n",
    "1. **Supervisor Agent**: Coordinates between specialized agents\n",
    "2. **Hotel Advisor Agent**: Specializes in hotel recommendations\n",
    "3. **Flights Advisor Agent**: Specializes in flight recommendations\n",
    "4. **Human Node**: Handles user interaction and routes messages\n"
   ]
  },
  {
   "cell_type": "markdown",
   "id": "253a4ac7",
   "metadata": {},
   "source": []
  },
  {
   "cell_type": "code",
   "execution_count": 2,
   "id": "initial_id",
   "metadata": {
    "ExecuteTime": {
     "end_time": "2025-03-02T08:35:17.007848Z",
     "start_time": "2025-03-02T08:35:17.005496Z"
    },
    "collapsed": true
   },
   "outputs": [],
   "source": [
    "from dotenv import load_dotenv\n",
    "\n",
    "_ = load_dotenv()"
   ]
  },
  {
   "cell_type": "code",
   "execution_count": 3,
   "id": "983327824d48c5fe",
   "metadata": {
    "ExecuteTime": {
     "end_time": "2025-03-02T08:35:17.029503Z",
     "start_time": "2025-03-02T08:35:17.017037Z"
    }
   },
   "outputs": [],
   "source": [
    "from langchain_openai import ChatOpenAI\n",
    "\n",
    "model = ChatOpenAI(model=\"gpt-4o-2024-08-06\")"
   ]
  },
  {
   "cell_type": "markdown",
   "id": "fd36c685e397c7bc",
   "metadata": {},
   "source": [
    "## Agent Definitions\n",
    "\n",
    "### Supervisor Agent\n",
    "The supervisor agent acts as the coordinator, directing user queries to specialized agents."
   ]
  },
  {
   "cell_type": "code",
   "execution_count": 71,
   "id": "c13482631890e3d0",
   "metadata": {
    "ExecuteTime": {
     "end_time": "2025-03-02T08:35:17.044281Z",
     "start_time": "2025-03-02T08:35:17.034658Z"
    }
   },
   "outputs": [],
   "source": [
    "import datetime\n",
    "from typing import Literal\n",
    "\n",
    "from langgraph.graph import MessagesState\n",
    "from langgraph.prebuilt import create_react_agent\n",
    "from langgraph.types import Command\n",
    "\n",
    "from app.tools.handoff_tool import make_handoff_tool\n",
    "\n",
    "supervisor_tools = [\n",
    "    make_handoff_tool(agent_name=\"flights_advisor\"),\n",
    "    make_handoff_tool(agent_name=\"hotel_advisor\"),\n",
    "]\n",
    "\n",
    "supervisor = create_react_agent(\n",
    "    model=model.bind_tools(supervisor_tools, parallel_tool_calls=False, strict=True),\n",
    "    tools=supervisor_tools,\n",
    "    prompt=(\n",
    "        \"You are a team supervisor for a travel agency managing a hotel and flights advisor.\"\n",
    "        f\"Today is {datetime.datetime.now().strftime('%Y-%m-%d')}. \"\n",
    "        \"Whenever you receive request from human for first time, Greet them and provide them with options you can help with like hotel, flight booking and suggest iteinery.\"\n",
    "        \"For finding hotels, use hotel_advisor. \"\n",
    "        \"For finding flights, use flights_advisor.\"\n",
    "        \"Transfer to only one agent (or tool) at a time, nothing more than one. Sending requests to multiple agents at a time is NOT supported\"\n",
    "        \"Be very friendly and helpful to the user. Make sure to provide human-readable response before transferring to another agent. Do NOT transfer to another agent without asking human\"\n",
    "    ),\n",
    "    name=\"supervisor\",\n",
    ")\n",
    "\n",
    "\n",
    "def call_supervisor(\n",
    "        state: MessagesState,\n",
    ") -> Command[Literal[\"hotel_advisor\", \"human\", \"flights_advisor\"]]:\n",
    "    response = supervisor.invoke(state)\n",
    "    return Command(update=response, goto=\"human\")\n"
   ]
  },
  {
   "cell_type": "markdown",
   "id": "4df8814f25795cd4",
   "metadata": {},
   "source": [
    "### Hotel Advisor Agent:\n",
    "Specialized agent for hotel recommendations with detailed knowledge of accommodations."
   ]
  },
  {
   "cell_type": "code",
   "execution_count": 72,
   "id": "9d54b2bc2c8a5e59",
   "metadata": {
    "ExecuteTime": {
     "end_time": "2025-03-02T08:35:17.058675Z",
     "start_time": "2025-03-02T08:35:17.049010Z"
    }
   },
   "outputs": [],
   "source": [
    "\n",
    "from app.agents.hotel_advisor_agent import get_hotel_recommendations\n",
    "\n",
    "# Define hotel advisor tools and ReAct agent\n",
    "hotel_advisor_tools = [\n",
    "    get_hotel_recommendations,\n",
    "    make_handoff_tool(agent_name=\"supervisor\"),\n",
    "]\n",
    "hotel_advisor = create_react_agent(\n",
    "    model=model.bind_tools(hotel_advisor_tools, parallel_tool_calls=False, strict=True),\n",
    "    tools=hotel_advisor_tools,\n",
    "    prompt=(\n",
    "        \"# Hotel Expert Assistant\\n\\n\"\n",
    "        f\"You are an expert hotel advisor specialized in finding and recommending the best accommodations. Today is {datetime.datetime.now().strftime('%Y-%m-%d')}.\\n\\n\"\n",
    "        \"## Your Capabilities\\n\"\n",
    "        \"- Search for hotels in any location worldwide\\n\"\n",
    "        \"- Analyze hotel options based on price, rating, amenities, and location\\n\"\n",
    "        \"- Provide personalized recommendations based on guest preferences\\n\\n\"\n",
    "        \"## Guidelines for Hotel Recommendations\\n\"\n",
    "        \"1. **Always provide complete information**:\\n\"\n",
    "        \"   - Hotel name and star rating\\n\"\n",
    "        \"   - Price per night with currency\\n\"\n",
    "        \"   - Location details and proximity to attractions\\n\"\n",
    "        \"   - Guest ratings and notable reviews\\n\"\n",
    "        \"   - Key amenities (pool, spa, restaurant, free breakfast, etc.)\\n\\n\"\n",
    "        \"2. **Search Pattern Analysis**:\\n\"\n",
    "        \"   - Consider the number of guests and required rooms\\n\"\n",
    "        \"   - Note the length of stay and adjust recommendations accordingly\\n\"\n",
    "        \"   - For family travel, highlight family-friendly amenities\\n\"\n",
    "        \"   - For business travel, emphasize business centers and workspace availability\\n\\n\"\n",
    "        \"3. **Data Processing**:\\n\"\n",
    "        \"   - Analyze all available hotel data\\n\"\n",
    "        \"   - Compare options across different metrics (price, rating, amenities, location)\\n\"\n",
    "        \"   - Highlight exceptional value or unique features\\n\\n\"\n",
    "        \"## Conversation Flow\\n\"\n",
    "        \"1. **Before making tool calls**:\\n\"\n",
    "        \"   - Thoroughly understand the user's needs and preferences\\n\"\n",
    "        \"   - Ask for clarification if location, dates, or other critical information is missing\\n\\n\"\n",
    "        \"2. **After receiving search results**:\\n\"\n",
    "        \"   - Provide a concise summary of the top 3-5 options\\n\"\n",
    "        \"   - Explain your recommendations with clear reasoning\\n\"\n",
    "        \"   - Format information in an easily readable way\\n\\n\"\n",
    "        \"3. **For non-hotel inquiries**:\\n\"\n",
    "        # \"   - Explain that you specialize in hotel information\\n\"\n",
    "        # \"   - Ask if the user would like to be transferred to a supervisor for other assistance\\n\"\n",
    "        # \"   - Only transfer after receiving confirmation from the user\\n\"\n",
    "        \"   - Do NOT answer any non-hotel related enquiry and transfer immediately to supervisor\\n\\n\"\n",
    "        \"## Common Scenarios\\n\"\n",
    "        \"- If no hotels match the criteria: Suggest alternatives with slightly different parameters\\n\"\n",
    "        \"- If hotels are expensive: Mention factors affecting price and suggest nearby alternatives\\n\"\n",
    "        \"- If search parameters are ambiguous: Ask clarifying questions before searching\\n\\n\"\n",
    "        \"Always aim to be helpful, accurate, and focused on finding the best accommodation options for the user's specific needs.\"\n",
    "    ),\n",
    "    name=\"hotel_advisor\",\n",
    ")\n",
    "\n",
    "\n",
    "def call_hotel_advisor(\n",
    "        state: MessagesState,\n",
    ") -> Command[Literal[\"supervisor\", \"human\"]]:\n",
    "    response = hotel_advisor.invoke(state)\n",
    "    return Command(update=response, goto=\"human\")"
   ]
  },
  {
   "cell_type": "markdown",
   "id": "40b7a4ceed7c0b70",
   "metadata": {},
   "source": [
    "### Flights Advisor Agent:\n",
    "Specialized agent for flight recommendations with detailed knowledge of airlines and routes."
   ]
  },
  {
   "cell_type": "code",
   "execution_count": 73,
   "id": "a46a69d97794f7b",
   "metadata": {
    "ExecuteTime": {
     "end_time": "2025-03-02T08:35:17.073556Z",
     "start_time": "2025-03-02T08:35:17.063729Z"
    }
   },
   "outputs": [],
   "source": [
    "\n",
    "from app.agents.flights_advisor_agent import find_flights\n",
    "\n",
    "flights_advisor_tools = [\n",
    "    find_flights,\n",
    "    make_handoff_tool(agent_name=\"supervisor\"),\n",
    "]\n",
    "\n",
    "flights_advisor = create_react_agent(\n",
    "    model=model.bind_tools(\n",
    "        flights_advisor_tools, parallel_tool_calls=False, strict=True\n",
    "    ),\n",
    "    tools=flights_advisor_tools,\n",
    "    prompt=(\n",
    "        \"# Flight Expert Assistant\\n\\n\"\n",
    "        f\"You are an expert flight advisor specialized in searching and recommending optimal flight options. Today is {datetime.datetime.now().strftime('%Y-%m-%d')}.\\n\\n\"\n",
    "        \"## Your Capabilities\\n\"\n",
    "        \"- Search for flights between airports using IATA codes\\n\"\n",
    "        \"- Analyze comprehensive flight data including prices, schedules, airlines, and layovers\\n\"\n",
    "        \"- Provide personalized recommendations based on user preferences\\n\\n\"\n",
    "        \"- If the question is not related to flights, transfer to a supervisor\\n\"\n",
    "        \"## Guidelines for Flight Recommendations\\n\"\n",
    "        \"1. **Always provide complete information**:\\n\"\n",
    "        \"   - Flight prices with currency\\n\"\n",
    "        \"   - Airlines and flight numbers\\n\"\n",
    "        \"   - Departure and arrival times (with timezone information where available)\\n\"\n",
    "        \"   - Duration of flights and layovers\\n\"\n",
    "        \"   - Number of stops\\n\\n\"\n",
    "        \"2. **Search Pattern Analysis**:\\n\"\n",
    "        \"   - For round trips: Provide both outbound and return flight options\\n\"\n",
    "        \"   - For one-way trips: Provide only the relevant flight leg\\n\"\n",
    "        \"   - If a user asks about a 'return flight' only (e.g., from destination back to origin), interpret this as a one-way flight search\\n\\n\"\n",
    "        \"3. **Data Processing**:\\n\"\n",
    "        \"   - First review the initial search results for overall options\\n\"\n",
    "        \"   - For round trips:\\n\"\n",
    "        \"     * Examine the complete itineraries data for detailed outbound + return combinations\\n\"\n",
    "        \"     * If available, use the return_flight_search data to supplement information\\n\"\n",
    "        \"     * Present complete round-trip itineraries showing both outbound and return flights\\n\"\n",
    "        \"   - For one-way trips, analyze available flight options directly\\n\"\n",
    "        \"   - Compare options across different metrics (price, duration, convenience)\\n\"\n",
    "        \"   - Highlight notable features (e.g., direct flights, significant savings, premium options)\\n\\n\"\n",
    "        \"4. **Handling Round-Trip Data**:\\n\"\n",
    "        \"   - Always present BOTH the outbound AND return flights for round trips\\n\"\n",
    "        \"   - First check the complete_itineraries data which contains paired outbound and return options\\n\"\n",
    "        \"   - If complete_itineraries is insufficient, combine data from initial_search and return_flight_search\\n\"\n",
    "        \"   - When presenting combinations, clearly label outbound and return flights\\n\\n\"\n",
    "        \"## Conversation Flow\\n\"\n",
    "        \"1. **Before making tool calls**:\\n\"\n",
    "        \"   - Thoroughly understand the user's request\\n\"\n",
    "        \"   - Ask for clarification if airport codes, dates, or other critical information is missing\\n\\n\"\n",
    "        \"2. **After receiving search results**:\\n\"\n",
    "        \"   - Provide a concise summary of the top options\\n\"\n",
    "        \"   - Explain your recommendations with clear reasoning\\n\"\n",
    "        \"   - Format information in an easily readable way\\n\\n\"\n",
    "        \"3. **For non-flight inquiries**:\\n\"\n",
    "        # \"   - Explain that you specialize in flight information\\n\"\n",
    "        # \"   - Ask if the user would like to be transferred to a supervisor for other assistance\\n\"\n",
    "        # \"   - Only transfer after receiving confirmation from the user\\n\"\n",
    "        \"   - Do NOT answer any non-flight related enquiry and offer to transfer immediately\\n\\n\"\n",
    "        \"## Common Scenarios\\n\"\n",
    "        \"- If no flights match the criteria: Suggest alternative dates or airports\\n\"\n",
    "        \"- If flights are expensive: Mention factors affecting price and possible alternatives\\n\"\n",
    "        \"- If search parameters are ambiguous: Ask clarifying questions before searching\\n\\n\"\n",
    "        \"Always aim to be helpful, accurate, and focused on finding the best flight options for the user's specific needs.\"\n",
    "    ),\n",
    "    name=\"flights_advisor\",\n",
    ")\n",
    "\n",
    "\n",
    "def call_flights_advisor(\n",
    "        state: MessagesState,\n",
    ") -> Command[Literal[\"supervisor\", \"human\"]]:\n",
    "    response = flights_advisor.invoke(state)\n",
    "    return Command(update=response, goto=\"human\")"
   ]
  },
  {
   "cell_type": "markdown",
   "id": "4a088316004d7e75",
   "metadata": {},
   "source": [
    "## Defining Human Node:\n",
    "The human node handles user interaction and routes messages to the appropriate agent."
   ]
  },
  {
   "cell_type": "code",
   "execution_count": 74,
   "id": "18938c67bbe5490a",
   "metadata": {
    "ExecuteTime": {
     "end_time": "2025-03-02T08:35:17.085570Z",
     "start_time": "2025-03-02T08:35:17.082461Z"
    }
   },
   "outputs": [],
   "source": [
    "from langchain_core.messages import HumanMessage\n",
    "from typing import Literal\n",
    "\n",
    "from dotenv import load_dotenv\n",
    "from langgraph.checkpoint.memory import MemorySaver\n",
    "from langgraph.constants import START\n",
    "from langgraph.graph import StateGraph, MessagesState\n",
    "from langgraph.types import Command, interrupt\n",
    "\n",
    "from app.agents.supervisor_agent import call_supervisor\n",
    "from app.agents.flights_advisor_agent import call_flights_advisor\n",
    "from app.agents.hotel_advisor_agent import call_hotel_advisor\n",
    "\n",
    "_ = load_dotenv()\n",
    "\n",
    "\n",
    "def human_node(\n",
    "        state: MessagesState, config\n",
    ") -> Command[Literal[\"hotel_advisor\", \"flights_advisor\", \"human\"]]:\n",
    "    \"\"\"A node for collecting user input.\"\"\"\n",
    "\n",
    "    message = state[\"messages\"][-1].content\n",
    "    user_input = interrupt(value=message)\n",
    "\n",
    "    # identify the last active agent\n",
    "    # (the last active node before returning to human)\n",
    "    langgraph_triggers = config[\"metadata\"][\"langgraph_triggers\"]\n",
    "    if len(langgraph_triggers) != 1:\n",
    "        raise AssertionError(\"Expected exactly 1 trigger in human node\")\n",
    "\n",
    "    active_agent = langgraph_triggers[0].split(\":\")[1]\n",
    "\n",
    "    return Command(\n",
    "        update={\n",
    "            \"messages\": [\n",
    "                HumanMessage(content=user_input),\n",
    "            ]\n",
    "        },\n",
    "        goto=active_agent,\n",
    "    )\n",
    "\n",
    "\n"
   ]
  },
  {
   "cell_type": "markdown",
   "id": "9001f6dfa72f2237",
   "metadata": {},
   "source": [
    "## Building the Graph:\n",
    "Here we define the structure of our multi-agent system using LangGraph's StateGraph.\n"
   ]
  },
  {
   "cell_type": "code",
   "execution_count": null,
   "id": "d7327f9c03b65ca",
   "metadata": {
    "ExecuteTime": {
     "end_time": "2025-03-02T08:35:17.090164Z",
     "start_time": "2025-03-02T08:35:17.087394Z"
    }
   },
   "outputs": [],
   "source": [
    "\n",
    "# Create a state graph with MessagesState as the state type\n",
    "builder = StateGraph(MessagesState)\n",
    "\n",
    "# Add nodes for each agent and the human node\n",
    "builder.add_node(\"supervisor\", call_supervisor)\n",
    "builder.add_node(\"hotel_advisor\", call_hotel_advisor)\n",
    "builder.add_node(\"flights_advisor\", call_flights_advisor)\n",
    "\n",
    "builder.add_node(\"human\", human_node)\n",
    "\n",
    "# Define the starting point of the graph\n",
    "builder.add_edge(START, \"supervisor\")\n",
    "\n",
    "# Set up checkpointing to maintain conversation state\n",
    "checkpointer = MemorySaver()\n",
    "\n",
    "graph = builder.compile(checkpointer=checkpointer)\n"
   ]
  },
  {
   "cell_type": "markdown",
   "id": "1b948db20b2c251a",
   "metadata": {},
   "source": [
    "## Displaying the Graph:\n",
    "Visualize the structure of our multi-agent system."
   ]
  },
  {
   "cell_type": "code",
   "execution_count": 76,
   "id": "e6ad18e5b5ed06e7",
   "metadata": {
    "ExecuteTime": {
     "end_time": "2025-03-02T08:35:17.581592Z",
     "start_time": "2025-03-02T08:35:17.095181Z"
    }
   },
   "outputs": [
    {
     "data": {
      "image/png": "[encoded data removed]",
      "text/plain": [
       "<IPython.core.display.Image object>"
      ]
     },
     "metadata": {},
     "output_type": "display_data"
    }
   ],
   "source": [
    "from IPython.display import Image, display\n",
    "\n",
    "graph.get_graph().draw_mermaid()\n",
    "display(Image(graph.get_graph().draw_mermaid_png()))"
   ]
  },
  {
   "cell_type": "markdown",
   "id": "dfa7e2d441c36d7d",
   "metadata": {},
   "source": [
    "## Invoking the Graph:\n",
    "Function to run the multi-agent system with user input.\n"
   ]
  },
  {
   "cell_type": "code",
   "execution_count": 77,
   "id": "9f206178bc1f80d7",
   "metadata": {
    "ExecuteTime": {
     "end_time": "2025-03-02T08:35:17.591377Z",
     "start_time": "2025-03-02T08:35:17.587452Z"
    }
   },
   "outputs": [],
   "source": [
    "def invoke_graph(user_input: str, thread_id: str):\n",
    "    thread_config = {\"configurable\": {\"thread_id\": thread_id}}\n",
    "    state = graph.get_state({\"configurable\": {\"thread_id\": thread_id}})\n",
    "    input_data = (\n",
    "        Command(resume=user_input)\n",
    "        if len(state.next) > 0 and state.next[0] == \"human\"\n",
    "        else {\"messages\": [{\"role\": \"user\", \"content\": user_input}]}\n",
    "    )\n",
    "\n",
    "    for update in graph.stream(input_data, config=thread_config, stream_mode=\"updates\"):\n",
    "        if \"__interrupt__\" in update:\n",
    "            break\n",
    "        else:\n",
    "            for node_id, value in update.items():\n",
    "                if \"messages\" in value and value[\"messages\"]:\n",
    "                    last_message = value[\"messages\"][-1]\n",
    "                    if last_message.type == \"ai\":\n",
    "                        print(f\"{node_id}: {last_message.content}\")\n"
   ]
  },
  {
   "cell_type": "code",
   "execution_count": 78,
   "id": "75fef1ae53dab234",
   "metadata": {
    "ExecuteTime": {
     "end_time": "2025-03-02T08:35:17.600979Z",
     "start_time": "2025-03-02T08:35:17.598334Z"
    }
   },
   "outputs": [
    {
     "data": {
      "text/plain": [
       "UUID('509d68c0-2e37-4279-8ea7-7960383ba407')"
      ]
     },
     "execution_count": 78,
     "metadata": {},
     "output_type": "execute_result"
    }
   ],
   "source": [
    "import uuid\n",
    "\n",
    "thread_id = uuid.uuid4()\n",
    "thread_id"
   ]
  },
  {
   "cell_type": "code",
   "execution_count": null,
   "id": "9854ba88dac49da6",
   "metadata": {
    "ExecuteTime": {
     "end_time": "2025-03-02T08:35:19.780240Z",
     "start_time": "2025-03-02T08:35:17.607320Z"
    }
   },
   "outputs": [
    {
     "name": "stdout",
     "output_type": "stream",
     "text": [
      "supervisor: Hello! I'd be delighted to help you plan your trip from New York to Delhi. I can assist you with both hotel bookings and flights, and also suggest some itineraries for your stay in Delhi. Would you like me to start with booking a flight or finding a hotel for your stay?\n"
     ]
    }
   ],
   "source": [
    "# Initial query to plan a trip\n",
    "user_input = \"Plan a trip to Delhi from New York\"\n",
    "invoke_graph(user_input, thread_id)"
   ]
  },
  {
   "cell_type": "code",
   "execution_count": 80,
   "id": "a72ace2e5497a9b6",
   "metadata": {
    "ExecuteTime": {
     "end_time": "2025-03-02T08:35:58.629528Z",
     "start_time": "2025-03-02T08:35:55.270441Z"
    }
   },
   "outputs": [
    {
     "name": "stdout",
     "output_type": "stream",
     "text": [
      "Handing off to flights_advisor...\n",
      "flights_advisor: Alright, let's look into flights from New York (JFK) to Delhi (DEL). Could you please provide me with your preferred travel dates, and let me know if you are looking for a round-trip or one-way ticket? Additionally, how many passengers will be traveling?\n"
     ]
    }
   ],
   "source": [
    "invoke_graph(\"I would like to book a flight\", thread_id)"
   ]
  },
  {
   "cell_type": "code",
   "execution_count": 81,
   "id": "88eeb30c97666ce1",
   "metadata": {
    "ExecuteTime": {
     "end_time": "2025-03-02T08:36:50.960035Z",
     "start_time": "2025-03-02T08:36:35.791260Z"
    }
   },
   "outputs": [
    {
     "name": "stdout",
     "output_type": "stream",
     "text": [
      "flights_advisor: Here are some flight options for your round-trip from New York (JFK) to Delhi (DEL) departing on April 30, 2025, and returning on May 7, 2025:\n",
      "\n",
      "### Option 1: \n",
      "- **Total Price:** $758 USD\n",
      "- **Airlines:** Delta, Virgin Atlantic\n",
      "- **Outbound Flight:**\n",
      "  - Departure: 20:20 from JFK on April 30, 2025\n",
      "  - Arrival: 00:05 at DEL on May 2, 2025 (Layover at LHR for 1h 40m)\n",
      "  - Flight Duration: 18h 15m\n",
      "- **Return Flight:**\n",
      "  - Departure: 03:25 from DEL on May 7, 2025\n",
      "  - Arrival: 15:10 at JFK (Layover at DOH for 3h 5m)\n",
      "  - Flight Duration: 21h 15m\n",
      "\n",
      "### Option 2:\n",
      "- **Total Price:** $768 USD\n",
      "- **Airlines:** Air India\n",
      "- **Outbound Flight:**\n",
      "  - Departure: 11:55 from JFK on April 30, 2025\n",
      "  - Arrival: 11:05 at DEL on May 1, 2025\n",
      "  - Flight Duration: 13h 40m (Direct)\n",
      "- **Return Flight:**\n",
      "  - Departure: 10:25 from DEL on May 7, 2025 \n",
      "  - Arrival: 22:30 at JFK (Layover at DOH for 3h 25m)\n",
      "  - Flight Duration: 21h 35m\n",
      "\n",
      "### Option 3:\n",
      "- **Total Price:** $920 USD\n",
      "- **Airlines:** American\n",
      "- **Outbound Flight:**\n",
      "  - Departure: 21:10 from JFK on April 30, 2025\n",
      "  - Arrival: 21:00 at DEL on May 1, 2025\n",
      "  - Flight Duration: 14h 20m (Direct)\n",
      "- **Return Flight:**\n",
      "  - Departure: 06:35 from DEL on May 7, 2025 \n",
      "  - Arrival: 17:55 at JFK (Layover at IST for 3h)\n",
      "  - Flight Duration: 20h 20m\n",
      "\n",
      "These are some of the available options. Please let me know if you want to book any of these flights or if you need further assistance!\n"
     ]
    }
   ],
   "source": [
    "invoke_graph(\"I am travelling alone, book for April 30 for 7 days\", thread_id)"
   ]
  },
  {
   "cell_type": "code",
   "execution_count": 82,
   "id": "3ad2e73108c62ac9",
   "metadata": {
    "ExecuteTime": {
     "end_time": "2025-03-02T09:50:55.408318Z",
     "start_time": "2025-03-02T09:50:50.094782Z"
    }
   },
   "outputs": [
    {
     "name": "stdout",
     "output_type": "stream",
     "text": [
      "flights_advisor: You've chosen Option 1 with Delta and Virgin Atlantic. Here's a recap of your selected itinerary:\n",
      "\n",
      "### Outbound Flight:\n",
      "- **Departure:** 20:20 from New York (JFK) on April 30, 2025\n",
      "- **Arrival:** 00:05 at Delhi (DEL) on May 2, 2025\n",
      "- **Layover:** Heathrow Airport (LHR) for 1h 40m\n",
      "- **Flight Duration:** 18h 15m\n",
      "\n",
      "### Return Flight:\n",
      "- **Departure:** 03:25 from Delhi (DEL) on May 7, 2025\n",
      "- **Arrival:** 15:10 at New York (JFK)\n",
      "- **Layover:** Hamad International (DOH) for 3h 5m\n",
      "- **Flight Duration:** 21h 15m\n",
      "\n",
      "### Total Price: $758 USD\n",
      "\n",
      "Please follow [this link](https://www.google.com/travel/flights?hl=en&gl=us&curr=USD&tfs=CBwQAhoeEgoyMDI1LTA0LTMwagcIARIDSkZLcgcIARIDREVMGh4SCjIwMjUtMDUtMDdqBwgBEgNERUxyBwgBEgNKRktCAQFIAXABmAEB&tfu=EgIIAQ) to complete your booking directly through Google Flights.\n",
      "\n",
      "Safe travels, and if you need anything else, feel free to ask!\n"
     ]
    }
   ],
   "source": [
    "invoke_graph(\"Great! I will choose option 1\", thread_id)"
   ]
  },
  {
   "cell_type": "code",
   "execution_count": 83,
   "id": "3b83e9271ec2ef7e",
   "metadata": {
    "ExecuteTime": {
     "end_time": "2025-03-02T09:51:51.042239Z",
     "start_time": "2025-03-02T09:51:42.102046Z"
    }
   },
   "outputs": [
    {
     "name": "stdout",
     "output_type": "stream",
     "text": [
      "Handing off to supervisor...\n",
      "Handing off to hotel_advisor...\n",
      "hotel_advisor: To help you book a hotel in Delhi, could you please provide me with:\n",
      "- Your check-in and check-out dates\n",
      "- Number of rooms required\n",
      "- Any specific preferences or budget you have in mind\n",
      "\n",
      "Once I have these details, I'll be able to provide you with the best options available.\n"
     ]
    }
   ],
   "source": [
    "invoke_graph(\"Great! I would like to book hotel now\", thread_id)"
   ]
  },
  {
   "cell_type": "code",
   "execution_count": 84,
   "id": "4f8eb8a86380afec",
   "metadata": {
    "ExecuteTime": {
     "end_time": "2025-03-02T09:53:04.680692Z",
     "start_time": "2025-03-02T09:52:49.704518Z"
    }
   },
   "outputs": [
    {
     "name": "stdout",
     "output_type": "stream",
     "text": [
      "hotel_advisor: Here are some excellent hotel options in the Karol Bagh area of Delhi, perfect for a stay from May 1 to May 7, 2025:\n",
      "\n",
      "### 1. Bloom Hotel - Karol Bagh\n",
      "- **Price:** ₹5,197 per night (Total: ₹31,181)\n",
      "- **Star Rating:** 4-star\n",
      "- **Rating:** 4.8/5 (3,179 reviews)\n",
      "- **Location:** Close to Karol Bagh Metro Station (4 min walk)\n",
      "- **Amenities:** Free Wi-Fi, Pool, Air conditioning, Restaurant, Room service, Breakfast available\n",
      "- **Proximity:** 9 min drive to Shri Laxmi Narayan Temple\n",
      "- **Booking Link:** [Book Now](https://staybloom.com/hotels/delhi/bloom-hotel-karol-bagh?couponCode=BLOOM15&utm_source=google&utm_medium=gmb&utm_campaign=gmb-website-cta)\n",
      "\n",
      "\n",
      "### 2. Hotel Livasa Inn\n",
      "- **Price:** ₹3,472 per night (Total: ₹20,832)\n",
      "- **Rating:** 4.6/5 (1,854 reviews)\n",
      "- **Location:** 10 min walk to Karol Bagh\n",
      "- **Amenities:** Free breakfast, Free Wi-Fi, Free parking, Room service, Airport shuttle\n",
      "- **Proximity:** 27 min taxi to Indira Gandhi International Airport\n",
      "- **Booking Link:** [Visit Website](http://www.hotellivasa.com/)\n",
      "\n",
      "\n",
      "### 3. Hotel Silver Stone (3-Star Hotel)\n",
      "- **Price:** ₹2,188 per night (Total: ₹13,128)\n",
      "- **Star Rating:** 3-star\n",
      "- **Rating:** 4.5/5 (1,685 reviews)\n",
      "- **Location:** 6 min walk to Karol Bagh\n",
      "- **Amenities:** Free breakfast, Free Wi-Fi, Free parking, Room service, Restaurant\n",
      "- **Proximity:** 28 min taxi to Indira Gandhi International Airport\n",
      "- **Booking Link:** [Visit Website](http://www.hotelsilverstonedelhi.com/)\n",
      "\n",
      "\n",
      "### 4. Hotel Sunstar Heritage\n",
      "- **Price:** ₹3,696 per night (Total: ₹22,177)\n",
      "- **Rating:** 4.5/5 (507 reviews)\n",
      "- **Location:** 10 min walk to Karol Bagh\n",
      "- **Amenities:** Free breakfast, Wi-Fi, Free parking, Restaurant, Room service\n",
      "- **Proximity:** 26 min taxi to Indira Gandhi International Airport\n",
      "- **Booking Link:** [Visit Website](http://www.hotelsunstarheritage.com/)\n",
      "\n",
      "\n",
      "If you have any preferences or need further assistance, feel free to let me know!\n"
     ]
    }
   ],
   "source": [
    "invoke_graph(\"Great! I am travelling alone, pls refer to shortlisted flights for checkin and checkout dates. I prefer hotels near Karol Bagh\", thread_id)"
   ]
  },
  {
   "cell_type": "code",
   "execution_count": 85,
   "id": "ab8166468c68fc5b",
   "metadata": {
    "ExecuteTime": {
     "end_time": "2025-03-02T09:53:23.509828Z",
     "start_time": "2025-03-02T09:53:14.310441Z"
    }
   },
   "outputs": [
    {
     "name": "stdout",
     "output_type": "stream",
     "text": [
      "hotel_advisor: You've chosen to stay at **Bloom Hotel - Karol Bagh**. Here's a quick summary of your choice:\n",
      "\n",
      "### Bloom Hotel - Karol Bagh\n",
      "- **Price**: ₹5,197 per night (Total: ₹31,181 for 6 nights)\n",
      "- **Star Rating**: 4-star\n",
      "- **Overall Rating**: 4.8/5 (3,179 reviews)\n",
      "- **Check-in**: May 1, 2025, 2:00 PM\n",
      "- **Check-out**: May 7, 2025, 11:00 AM\n",
      "- **Amenities**: \n",
      "  - Free Wi-Fi \n",
      "  - Pool \n",
      "  - Air conditioning \n",
      "  - Restaurant \n",
      "  - Room service \n",
      "  - Breakfast available\n",
      "- **Proximity**: \n",
      "  - 4-minute walk to Karol Bagh Metro Station\n",
      "  - 9-minute taxi to Shri Laxmi Narayan Temple\n",
      "\n",
      "You can proceed to [Book Now](https://staybloom.com/hotels/delhi/bloom-hotel-karol-bagh?couponCode=BLOOM15&utm_source=google&utm_medium=gmb&utm_campaign=gmb-website-cta).\n",
      "\n",
      "If you need anything else, feel free to ask! Enjoy your stay!\n"
     ]
    }
   ],
   "source": [
    "invoke_graph(\"Great! I will choose option 1\", thread_id)"
   ]
  },
  {
   "cell_type": "code",
   "execution_count": null,
   "id": "8a81d81579f272f7",
   "metadata": {},
   "outputs": [],
   "source": []
  }
 ],
 "metadata": {
  "kernelspec": {
   "display_name": ".venv",
   "language": "python",
   "name": "python3"
  },
  "language_info": {
   "codemirror_mode": {
    "name": "ipython",
    "version": 3
   },
   "file_extension": ".py",
   "mimetype": "text/x-python",
   "name": "python",
   "nbconvert_exporter": "python",
   "pygments_lexer": "ipython3",
   "version": "3.11.11"
  }
 },
 "nbformat": 4,
 "nbformat_minor": 5
}
